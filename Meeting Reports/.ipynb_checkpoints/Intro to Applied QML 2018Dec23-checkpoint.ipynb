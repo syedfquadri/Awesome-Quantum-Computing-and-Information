{
 "cells": [
  {
   "cell_type": "markdown",
   "metadata": {},
   "source": [
    "# Introduction to Applied Quantum Machine Learning\n",
    "\n",
    "## Topics to be discussed\n",
    "* Basics of Quantum Mechanics.\n",
    "* Basics of Machine Learning (Deep Learning Included)\n",
    "* How they merge and What is Quantum Machine Learning QML?\n",
    "* Intro to QML and Current state of the QML Research?\n",
    "* Why and what is Applied QML?"
   ]
  },
  {
   "cell_type": "code",
   "execution_count": null,
   "metadata": {},
   "outputs": [],
   "source": []
  }
 ],
 "metadata": {
  "kernelspec": {
   "display_name": "Python 3",
   "language": "python",
   "name": "python3"
  },
  "language_info": {
   "codemirror_mode": {
    "name": "ipython",
    "version": 3
   },
   "file_extension": ".py",
   "mimetype": "text/x-python",
   "name": "python",
   "nbconvert_exporter": "python",
   "pygments_lexer": "ipython3",
   "version": "3.7.1"
  }
 },
 "nbformat": 4,
 "nbformat_minor": 2
}

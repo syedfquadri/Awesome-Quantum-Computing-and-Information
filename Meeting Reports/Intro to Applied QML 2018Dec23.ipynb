{
 "cells": [
  {
   "cell_type": "markdown",
   "metadata": {},
   "source": [
    "# Introduction to Applied Quantum Machine Learning\n",
    "## Topics to be discussed\n",
    "* Basics of Quantum Computing\n",
    "* Basics of Machine Learning (Deep Learning Included)\n",
    "* What is Quantum Machine Learning?\n",
    "* My Work"
   ]
  },
  {
   "cell_type": "markdown",
   "metadata": {},
   "source": [
    "## Basics of Quantum Computing\n",
    "__Quantum Computing__\n",
    "* Quantum computing is computing using the quantum mechanical phenomenas, like **Superposition** and **Entanglement**\n",
    "\n",
    "__Qubit__ (Fundamental unit for Quantum Information)\n",
    "* Classical bits: 0 or 1 (Magnetic field, light in optic fibre...)\n",
    "* Qubit: A simple Quantum System (Physical Realizations: Atoms, Photons, ....)\n",
    "\n",
    "The quantum states are represented using Dirac Notation (Bra-Ket Notation), standard:\n",
    "> Braket: ![Braket](braket.PNG)\n",
    "> Bra: ![Bra](bra.PNG)\n",
    "> Ket :![ket](ket.PNG)\n",
    "\n",
    "The Geometric Representation of a Quantum System: \n",
    "> Bloch Sphere: ![bloch Sphere](bloch_sphere.PNG)\n",
    "> Quantum State of a qubit is a vector in two-dimensional complex vector space(hilbert space).\n",
    "> General Quantum State can be represented as the __Linear Combination__(Superposition) of |0> and |1>\n",
    "\n",
    "Other Quantum system representations are : Quantum circuits, Matrix Representations.\n",
    "\n",
    "__Quantum Computing Implementations__\n",
    "* Superconductors\n",
    "* Photons\n",
    "* Trapped-Ions\n"
   ]
  },
  {
   "cell_type": "markdown",
   "metadata": {},
   "source": [
    "## Basics of Machine Learning (Deep Learning Included)\n",
    "\n",
    "![AI(ml(dl))](ai_ml_dl.PNG)\n",
    "\n",
    "Making mathematical models using sample data (Training Data) to make predictions with taking any explicit instructions."
   ]
  },
  {
   "cell_type": "markdown",
   "metadata": {},
   "source": [
    "## Quantum Machine Learning\n",
    "\n",
    "Generally QML can be roughly described as: Using Quantum algorithms to speed-up the machine learning processes.\n",
    "\n",
    "It can be divided into three catogories:\n",
    "* Solving Quantum Physics problems(Many-Body systems etc) using Classical Machine Learning\n",
    "* Using Quantum Algorithms to speed up the learning process of the Machine Learning processes (Probabilistic, glabal optimization)\n",
    "* Classical Machine learning algorithms which are Quantum-Inspired\n",
    "\n",
    "The state of the work in the QML is theoretical and the work in applications are just started being explored. (This is where I am working in .... )\n",
    "\n",
    "The basic idea is to use the near term quantum computers or quantum simulators, to find the applications of it.\n"
   ]
  },
  {
   "cell_type": "markdown",
   "metadata": {},
   "source": [
    "### My work (Applied QML)\n",
    "\n",
    "* Quantum algorithms in Network Theory\n",
    "* Quantum Graph Neural/Convolution Networks"
   ]
  },
  {
   "cell_type": "code",
   "execution_count": null,
   "metadata": {},
   "outputs": [],
   "source": []
  }
 ],
 "metadata": {
  "kernelspec": {
   "display_name": "Python 3",
   "language": "python",
   "name": "python3"
  },
  "language_info": {
   "codemirror_mode": {
    "name": "ipython",
    "version": 3
   },
   "file_extension": ".py",
   "mimetype": "text/x-python",
   "name": "python",
   "nbconvert_exporter": "python",
   "pygments_lexer": "ipython3",
   "version": "3.7.1"
  }
 },
 "nbformat": 4,
 "nbformat_minor": 2
}
